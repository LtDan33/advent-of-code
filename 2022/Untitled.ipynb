{
 "cells": [
  {
   "cell_type": "markdown",
   "id": "e3713637",
   "metadata": {},
   "source": [
    "# Advent of code 2022"
   ]
  },
  {
   "cell_type": "markdown",
   "id": "70148a8f",
   "metadata": {},
   "source": [
    "## Day 1 "
   ]
  },
  {
   "cell_type": "code",
   "execution_count": 22,
   "id": "6ea3ae42",
   "metadata": {},
   "outputs": [
    {
     "name": "stdout",
     "output_type": "stream",
     "text": [
      "most_calories is : 68292\n"
     ]
    }
   ],
   "source": [
    "# Read in the days input\n",
    "elves = []\n",
    "cal_count = 0\n",
    "most_calories = 0\n",
    "\n",
    "with open('data/day_1.txt','r') as r:\n",
    "    for line in r:\n",
    "        if line == '\\n':\n",
    "            elves.append(cal_count)\n",
    "            if cal_count > most_calories:\n",
    "                most_calories = cal_count\n",
    "            cal_count = 0\n",
    "        else:\n",
    "            cal_count += int(line)\n",
    "            \n",
    "elves.sort(reverse=True)\n",
    "    \n",
    "print(f\"most_calories is : {elves[0]}\")"
   ]
  },
  {
   "cell_type": "markdown",
   "id": "2c9502a7",
   "metadata": {},
   "source": [
    "### Part 2"
   ]
  },
  {
   "cell_type": "code",
   "execution_count": 23,
   "id": "c5df9e89",
   "metadata": {},
   "outputs": [
    {
     "name": "stdout",
     "output_type": "stream",
     "text": [
      "Top three most_calories are : 203203\n"
     ]
    }
   ],
   "source": [
    "top_three = elves[0] + elves[1] + elves[2]\n",
    "print(f\"Top three most_calories are : {top_three}\")"
   ]
  }
 ],
 "metadata": {
  "kernelspec": {
   "display_name": "Python 3 (ipykernel)",
   "language": "python",
   "name": "python3"
  },
  "language_info": {
   "codemirror_mode": {
    "name": "ipython",
    "version": 3
   },
   "file_extension": ".py",
   "mimetype": "text/x-python",
   "name": "python",
   "nbconvert_exporter": "python",
   "pygments_lexer": "ipython3",
   "version": "3.10.8"
  }
 },
 "nbformat": 4,
 "nbformat_minor": 5
}
